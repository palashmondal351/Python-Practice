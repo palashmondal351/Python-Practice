{
 "cells": [
  {
   "cell_type": "markdown",
   "metadata": {},
   "source": [
    "# Search vowel in a string"
   ]
  },
  {
   "cell_type": "code",
   "execution_count": 1,
   "metadata": {},
   "outputs": [
    {
     "name": "stdout",
     "output_type": "stream",
     "text": [
      "Leangth of the output: 5\n",
      "['e', 'u', 'a', 'e', 'o']\n",
      "0 e\n",
      "1 u\n",
      "2 a\n",
      "0 e\n",
      "4 o\n"
     ]
    }
   ],
   "source": [
    "def vowel(strings, vowels):\n",
    "    l=[each for each in strings if each in vowels]\n",
    "    print('Leangth of the output:',len(l))\n",
    "    print(l)\n",
    "    for item in l:\n",
    "        print(l.index(item), item)\n",
    "        \n",
    "\n",
    "strings=\"Neural Network\"\n",
    "vowels=\"aeiouAEIOU\"\n",
    "vowel(strings,vowels)\n",
    "    "
   ]
  },
  {
   "cell_type": "code",
   "execution_count": 22,
   "metadata": {},
   "outputs": [
    {
     "name": "stdout",
     "output_type": "stream",
     "text": [
      "Leanth of the found vouwl is: 10\n",
      "['A', 'i', 'i', 'i', 'a', 'I', 'e', 'i', 'e', 'e']\n",
      "0 A\n",
      "1 i\n",
      "1 i\n",
      "1 i\n",
      "4 a\n",
      "5 I\n",
      "6 e\n",
      "1 i\n",
      "6 e\n",
      "6 e\n"
     ]
    }
   ],
   "source": [
    "def vol_ser(st,vol):\n",
    "    op=[each for each in st if each in vol]\n",
    "    print('Leanth of the found vouwl is:', len(op))\n",
    "    print(op)\n",
    "    \n",
    "    for item in op:\n",
    "        print(op.index(item),item)\n",
    "        \n",
    "st='Artificial Intelligence'\n",
    "vol='AaEeIiOoUu'\n",
    "vol_ser(st,vol)"
   ]
  }
 ],
 "metadata": {
  "kernelspec": {
   "display_name": "Python 3",
   "language": "python",
   "name": "python3"
  },
  "language_info": {
   "codemirror_mode": {
    "name": "ipython",
    "version": 3
   },
   "file_extension": ".py",
   "mimetype": "text/x-python",
   "name": "python",
   "nbconvert_exporter": "python",
   "pygments_lexer": "ipython3",
   "version": "3.7.0"
  }
 },
 "nbformat": 4,
 "nbformat_minor": 2
}
