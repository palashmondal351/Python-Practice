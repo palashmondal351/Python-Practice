{
 "cells": [
  {
   "cell_type": "code",
   "execution_count": 5,
   "metadata": {},
   "outputs": [
    {
     "name": "stdout",
     "output_type": "stream",
     "text": [
      "give input hare:Ram babu\n"
     ]
    }
   ],
   "source": [
    "n=str(input('give input hare:'))"
   ]
  },
  {
   "cell_type": "code",
   "execution_count": 19,
   "metadata": {},
   "outputs": [
    {
     "name": "stdout",
     "output_type": "stream",
     "text": [
      "{'g': 2, 'o': 3, 'l': 1, 'e': 1, '.': 1, 'c': 1, 'm': 1}\n"
     ]
    }
   ],
   "source": [
    "def char_frequency(str1):\n",
    "    dict = {}\n",
    "    for n in str1:\n",
    "        keys = dict.keys()\n",
    "        if n in keys:\n",
    "            dict[n] += 1\n",
    "        else:\n",
    "            dict[n] = 1\n",
    "    return dict\n",
    "print(char_frequency('google.com'))"
   ]
  },
  {
   "cell_type": "code",
   "execution_count": 24,
   "metadata": {},
   "outputs": [],
   "source": [
    "# array element frequencies  \n",
    "import collections\n",
    "def freqCount(arr):\n",
    "    return collections.Counter(arr)\n",
    "\n",
    "#if __name__=='__main__':\n",
    "\n",
    "    arr=[2,3,5,4,6,2,5,7,8,1,5,4]\n",
    "    freq=freqCount(arr)\n",
    "    for key,value in freq.items():\n",
    "        print(key,':',value)"
   ]
  },
  {
   "cell_type": "code",
   "execution_count": 35,
   "metadata": {},
   "outputs": [
    {
     "name": "stdout",
     "output_type": "stream",
     "text": [
      "Mabu\n"
     ]
    }
   ],
   "source": [
    "my_str=\"Manoj babu\"\n",
    "if len(my_str)<2:\n",
    "    print('Error')\n",
    "else:\n",
    "    print(my_str[0:2]+my_str[-2:])"
   ]
  },
  {
   "cell_type": "code",
   "execution_count": 43,
   "metadata": {},
   "outputs": [
    {
     "name": "stdout",
     "output_type": "stream",
     "text": [
      "enter any string:ykfhyy\n",
      "$kfhy\n"
     ]
    }
   ],
   "source": [
    "i=input(\"enter any string:\")\n",
    "k=(i.replace(i[-1],'$'))\n",
    "print(k[0:-2]+i[-1])"
   ]
  },
  {
   "cell_type": "code",
   "execution_count": null,
   "metadata": {},
   "outputs": [],
   "source": []
  }
 ],
 "metadata": {
  "kernelspec": {
   "display_name": "Python 3",
   "language": "python",
   "name": "python3"
  },
  "language_info": {
   "codemirror_mode": {
    "name": "ipython",
    "version": 3
   },
   "file_extension": ".py",
   "mimetype": "text/x-python",
   "name": "python",
   "nbconvert_exporter": "python",
   "pygments_lexer": "ipython3",
   "version": "3.7.0"
  }
 },
 "nbformat": 4,
 "nbformat_minor": 2
}
